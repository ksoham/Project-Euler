{
 "cells": [
  {
   "cell_type": "code",
   "id": "initial_id",
   "metadata": {
    "collapsed": true,
    "ExecuteTime": {
     "end_time": "2025-02-20T13:24:50.038256Z",
     "start_time": "2025-02-20T13:24:50.022863Z"
    }
   },
   "source": "expense=[2200,2350,2600,2130,2190]",
   "outputs": [],
   "execution_count": 27
  },
  {
   "metadata": {
    "ExecuteTime": {
     "end_time": "2025-02-20T06:37:09.081330Z",
     "start_time": "2025-02-20T06:37:09.058847Z"
    }
   },
   "cell_type": "code",
   "source": "print(expense)",
   "id": "ad6a710c729e3297",
   "outputs": [
    {
     "name": "stdout",
     "output_type": "stream",
     "text": [
      "[2200, 2350, 2600, 2130, 2190]\n"
     ]
    }
   ],
   "execution_count": 17
  },
  {
   "metadata": {},
   "cell_type": "markdown",
   "source": "1. In Feb, how many dollars you spent extra compare to January?",
   "id": "885051e7e73f81ae"
  },
  {
   "metadata": {
    "ExecuteTime": {
     "end_time": "2025-02-20T06:11:40.513920Z",
     "start_time": "2025-02-20T06:11:40.493573Z"
    }
   },
   "cell_type": "code",
   "source": [
    "feb_extra= expense[1]-expense[0]\n",
    "print(f\"The extra Money spent in Feb than Jan is {feb_extra} Dollars\")\n"
   ],
   "id": "8e7276ffe3382785",
   "outputs": [
    {
     "name": "stdout",
     "output_type": "stream",
     "text": [
      "The extra Money spent in Feb than Jan is 150 Dollars\n"
     ]
    }
   ],
   "execution_count": 3
  },
  {
   "metadata": {},
   "cell_type": "markdown",
   "source": "2. Find out your total expense in first quarter (first three months) of the year.",
   "id": "1b140d27c6a636f9"
  },
  {
   "metadata": {
    "ExecuteTime": {
     "end_time": "2025-02-20T06:14:47.813485Z",
     "start_time": "2025-02-20T06:14:47.805284Z"
    }
   },
   "cell_type": "code",
   "source": [
    "total_exp_f3=expense[0]+expense[1]+expense[2]\n",
    "print(total_exp_f3)"
   ],
   "id": "ed8c038004b68fe3",
   "outputs": [
    {
     "name": "stdout",
     "output_type": "stream",
     "text": [
      "7150\n"
     ]
    }
   ],
   "execution_count": 4
  },
  {
   "metadata": {},
   "cell_type": "markdown",
   "source": "3. Find out if you spent exactly 2000 dollars in any month",
   "id": "85125b91aab26f7a"
  },
  {
   "metadata": {
    "ExecuteTime": {
     "end_time": "2025-02-20T06:34:16.929569Z",
     "start_time": "2025-02-20T06:34:16.914503Z"
    }
   },
   "cell_type": "code",
   "source": [
    "if 2000 in expense:\n",
    "    print(\"exact 2000 was spent in any month\")\n",
    "else:\n",
    "    print(\"exact 2000 was not spent in any month\")"
   ],
   "id": "9538eafd40133a68",
   "outputs": [
    {
     "name": "stdout",
     "output_type": "stream",
     "text": [
      "exact 2000 was not spent in any month\n"
     ]
    }
   ],
   "execution_count": 6
  },
  {
   "metadata": {},
   "cell_type": "markdown",
   "source": "4. June month just finished and your expense is 1980 dollar. Add this item to our monthly expense list",
   "id": "efffb62355eff140"
  },
  {
   "metadata": {
    "ExecuteTime": {
     "end_time": "2025-02-20T13:24:59.265220Z",
     "start_time": "2025-02-20T13:24:59.253380Z"
    }
   },
   "cell_type": "code",
   "source": "expense.append(1980)",
   "id": "d89ca0dc8462bf78",
   "outputs": [],
   "execution_count": 29
  },
  {
   "metadata": {
    "ExecuteTime": {
     "end_time": "2025-02-20T13:25:00.539429Z",
     "start_time": "2025-02-20T13:25:00.532931Z"
    }
   },
   "cell_type": "code",
   "source": "print(expense)",
   "id": "7551c6ed830e9bef",
   "outputs": [
    {
     "name": "stdout",
     "output_type": "stream",
     "text": [
      "[2200, 2350, 2600, 2130, 2190, 1980]\n"
     ]
    }
   ],
   "execution_count": 30
  },
  {
   "metadata": {},
   "cell_type": "markdown",
   "source": [
    "5. You returned an item that you bought in a month of April and\n",
    "got a refund of 200$. Make a correction to your monthly expense list based on this"
   ],
   "id": "9b4888ce946d9ee2"
  },
  {
   "metadata": {
    "ExecuteTime": {
     "end_time": "2025-02-20T13:25:17.471363Z",
     "start_time": "2025-02-20T13:25:17.463143Z"
    }
   },
   "cell_type": "code",
   "source": "expense[3] = expense[3] - 200",
   "id": "d8a58822ec40a1c1",
   "outputs": [],
   "execution_count": 31
  },
  {
   "metadata": {
    "ExecuteTime": {
     "end_time": "2025-02-20T13:25:20.337898Z",
     "start_time": "2025-02-20T13:25:20.327822Z"
    }
   },
   "cell_type": "code",
   "source": "expense",
   "id": "9ab95d6fb471b1ee",
   "outputs": [
    {
     "data": {
      "text/plain": [
       "[2200, 2350, 2600, 1930, 2190, 1980]"
      ]
     },
     "execution_count": 32,
     "metadata": {},
     "output_type": "execute_result"
    }
   ],
   "execution_count": 32
  },
  {
   "metadata": {},
   "cell_type": "markdown",
   "source": "You have a list of your favourite marvel super heros.\n",
   "id": "96ac9358cafd0798"
  },
  {
   "metadata": {},
   "cell_type": "markdown",
   "source": "",
   "id": "27d1e7d57a3cada7"
  },
  {
   "metadata": {
    "ExecuteTime": {
     "end_time": "2025-02-21T04:44:56.364444Z",
     "start_time": "2025-02-21T04:44:56.356389Z"
    }
   },
   "cell_type": "code",
   "source": "heros=['spider man','thor','hulk','iron man','captain america']",
   "id": "523d288b4a6ae7c3",
   "outputs": [],
   "execution_count": 41
  },
  {
   "metadata": {},
   "cell_type": "markdown",
   "source": "1. Length of the list",
   "id": "aa40456a4d64ccb9"
  },
  {
   "metadata": {
    "ExecuteTime": {
     "end_time": "2025-02-21T04:44:57.917655Z",
     "start_time": "2025-02-21T04:44:57.906201Z"
    }
   },
   "cell_type": "code",
   "source": "print(len(heros))",
   "id": "bb27fb8f5d25166c",
   "outputs": [
    {
     "name": "stdout",
     "output_type": "stream",
     "text": [
      "5\n"
     ]
    }
   ],
   "execution_count": 42
  },
  {
   "metadata": {},
   "cell_type": "markdown",
   "source": "2. Add 'black panther' at the end of this list",
   "id": "6d2aca395082cd3a"
  },
  {
   "metadata": {
    "ExecuteTime": {
     "end_time": "2025-02-21T04:44:59.611682Z",
     "start_time": "2025-02-21T04:44:59.604659Z"
    }
   },
   "cell_type": "code",
   "source": "heros.append('black panther')",
   "id": "60dda5490b909415",
   "outputs": [],
   "execution_count": 43
  },
  {
   "metadata": {
    "ExecuteTime": {
     "end_time": "2025-02-21T04:45:00.999385Z",
     "start_time": "2025-02-21T04:45:00.983572Z"
    }
   },
   "cell_type": "code",
   "source": "heros",
   "id": "e0354911d40ecf89",
   "outputs": [
    {
     "data": {
      "text/plain": [
       "['spider man', 'thor', 'hulk', 'iron man', 'captain america', 'black panther']"
      ]
     },
     "execution_count": 44,
     "metadata": {},
     "output_type": "execute_result"
    }
   ],
   "execution_count": 44
  },
  {
   "metadata": {},
   "cell_type": "markdown",
   "source": [
    "3. You realize that you need to add 'black panther' after 'hulk',\n",
    "   so remove it from the list first and then add it after 'hulk'"
   ],
   "id": "e9b5dde51d6bdd1e"
  },
  {
   "metadata": {
    "ExecuteTime": {
     "end_time": "2025-02-21T04:45:14.166063Z",
     "start_time": "2025-02-21T04:45:14.155898Z"
    }
   },
   "cell_type": "code",
   "source": [
    "heros.remove('black panther')\n",
    "heros\n"
   ],
   "id": "2caccb5feb49c7d1",
   "outputs": [
    {
     "data": {
      "text/plain": [
       "['spider man', 'thor', 'hulk', 'iron man', 'captain america']"
      ]
     },
     "execution_count": 45,
     "metadata": {},
     "output_type": "execute_result"
    }
   ],
   "execution_count": 45
  },
  {
   "metadata": {
    "ExecuteTime": {
     "end_time": "2025-02-21T05:01:21.410609Z",
     "start_time": "2025-02-21T05:01:21.395345Z"
    }
   },
   "cell_type": "code",
   "source": "heros.insert(3,'black panther')",
   "id": "7358b0a171edd0f9",
   "outputs": [],
   "execution_count": 48
  },
  {
   "metadata": {
    "ExecuteTime": {
     "end_time": "2025-02-21T05:01:28.688016Z",
     "start_time": "2025-02-21T05:01:28.678839Z"
    }
   },
   "cell_type": "code",
   "source": "heros",
   "id": "89f202b9b4d533d1",
   "outputs": [
    {
     "data": {
      "text/plain": [
       "['spider man', 'thor', 'hulk', 'black panther', 'iron man', 'captain america']"
      ]
     },
     "execution_count": 49,
     "metadata": {},
     "output_type": "execute_result"
    }
   ],
   "execution_count": 49
  },
  {
   "metadata": {},
   "cell_type": "markdown",
   "source": [
    "4. Now you don't like thor and hulk because they get angry easily :)\n",
    "   So you want to remove thor and hulk from list and replace them with doctor strange (because he is cool).\n",
    "   Do that with one line of code."
   ],
   "id": "eb2379844ca95497"
  },
  {
   "metadata": {
    "ExecuteTime": {
     "end_time": "2025-02-21T05:04:05.613973Z",
     "start_time": "2025-02-21T05:04:05.607278Z"
    }
   },
   "cell_type": "code",
   "source": "heros[1:3]=['doctor strange']",
   "id": "3fa011e01cfcdce",
   "outputs": [],
   "execution_count": 50
  },
  {
   "metadata": {
    "ExecuteTime": {
     "end_time": "2025-02-21T05:04:12.369856Z",
     "start_time": "2025-02-21T05:04:12.357592Z"
    }
   },
   "cell_type": "code",
   "source": "heros",
   "id": "bceb56c763695dc2",
   "outputs": [
    {
     "data": {
      "text/plain": [
       "['spider man',\n",
       " 'doctor strange',\n",
       " 'black panther',\n",
       " 'iron man',\n",
       " 'captain america']"
      ]
     },
     "execution_count": 52,
     "metadata": {},
     "output_type": "execute_result"
    }
   ],
   "execution_count": 52
  },
  {
   "metadata": {},
   "cell_type": "markdown",
   "source": "5. Sort the heros list in alphabetical order (Hint. Use dir() functions to list down all functions available in list)",
   "id": "7e82ddd5f65632f6"
  },
  {
   "metadata": {
    "ExecuteTime": {
     "end_time": "2025-02-21T05:04:52.335124Z",
     "start_time": "2025-02-21T05:04:52.321384Z"
    }
   },
   "cell_type": "code",
   "source": "dir()",
   "id": "eca2bf8e499bd1ae",
   "outputs": [
    {
     "data": {
      "text/plain": [
       "['In',\n",
       " 'Out',\n",
       " '_',\n",
       " '_19',\n",
       " '_21',\n",
       " '_25',\n",
       " '_32',\n",
       " '_36',\n",
       " '_40',\n",
       " '_44',\n",
       " '_45',\n",
       " '_49',\n",
       " '_52',\n",
       " '__',\n",
       " '___',\n",
       " '__builtin__',\n",
       " '__builtins__',\n",
       " '__doc__',\n",
       " '__loader__',\n",
       " '__name__',\n",
       " '__package__',\n",
       " '__session__',\n",
       " '__spec__',\n",
       " '_dh',\n",
       " '_i',\n",
       " '_i1',\n",
       " '_i10',\n",
       " '_i11',\n",
       " '_i12',\n",
       " '_i13',\n",
       " '_i14',\n",
       " '_i15',\n",
       " '_i16',\n",
       " '_i17',\n",
       " '_i18',\n",
       " '_i19',\n",
       " '_i2',\n",
       " '_i20',\n",
       " '_i21',\n",
       " '_i22',\n",
       " '_i23',\n",
       " '_i24',\n",
       " '_i25',\n",
       " '_i26',\n",
       " '_i27',\n",
       " '_i28',\n",
       " '_i29',\n",
       " '_i3',\n",
       " '_i30',\n",
       " '_i31',\n",
       " '_i32',\n",
       " '_i33',\n",
       " '_i34',\n",
       " '_i35',\n",
       " '_i36',\n",
       " '_i37',\n",
       " '_i38',\n",
       " '_i39',\n",
       " '_i4',\n",
       " '_i40',\n",
       " '_i41',\n",
       " '_i42',\n",
       " '_i43',\n",
       " '_i44',\n",
       " '_i45',\n",
       " '_i46',\n",
       " '_i47',\n",
       " '_i48',\n",
       " '_i49',\n",
       " '_i5',\n",
       " '_i50',\n",
       " '_i51',\n",
       " '_i52',\n",
       " '_i53',\n",
       " '_i54',\n",
       " '_i6',\n",
       " '_i7',\n",
       " '_i8',\n",
       " '_i9',\n",
       " '_ih',\n",
       " '_ii',\n",
       " '_iii',\n",
       " '_oh',\n",
       " '_pydevd_bundle',\n",
       " 'exit',\n",
       " 'expense',\n",
       " 'feb_extra',\n",
       " 'get_ipython',\n",
       " 'heros',\n",
       " 'i',\n",
       " 'open',\n",
       " 'pydev_jupyter_vars',\n",
       " 'quit',\n",
       " 'remove_imported_pydev_package',\n",
       " 'sys',\n",
       " 'total_exp_f3']"
      ]
     },
     "execution_count": 54,
     "metadata": {},
     "output_type": "execute_result"
    }
   ],
   "execution_count": 54
  },
  {
   "metadata": {
    "ExecuteTime": {
     "end_time": "2025-02-21T05:06:53.288176Z",
     "start_time": "2025-02-21T05:06:53.271852Z"
    }
   },
   "cell_type": "code",
   "source": [
    "heros.sort(reverse=False, key=None)\n",
    "heros"
   ],
   "id": "ebf01a0cbcceda95",
   "outputs": [
    {
     "data": {
      "text/plain": [
       "['black panther',\n",
       " 'captain america',\n",
       " 'doctor strange',\n",
       " 'iron man',\n",
       " 'spider man']"
      ]
     },
     "execution_count": 59,
     "metadata": {},
     "output_type": "execute_result"
    }
   ],
   "execution_count": 59
  },
  {
   "metadata": {},
   "cell_type": "code",
   "outputs": [],
   "execution_count": null,
   "source": "",
   "id": "ac6e1f6154344b2"
  },
  {
   "metadata": {},
   "cell_type": "markdown",
   "source": "Create a list of all odd numbers between 1 and a max number. Max number is something you need to take from a user using input() function",
   "id": "b2a9a97741c8011"
  },
  {
   "metadata": {
    "ExecuteTime": {
     "end_time": "2025-02-21T05:18:12.957012Z",
     "start_time": "2025-02-21T05:18:05.535868Z"
    }
   },
   "cell_type": "code",
   "source": [
    "odd_num=[]\n",
    "n=int(input(\"enter a number\"))\n",
    "for i in range(1,n+1):\n",
    "    if i %2 != 0 :\n",
    "        odd_num.append(i)\n",
    "\n",
    "print(odd_num)"
   ],
   "id": "fb75cbf416ad45a9",
   "outputs": [
    {
     "name": "stdout",
     "output_type": "stream",
     "text": [
      "[1, 3, 5, 7, 9, 11, 13, 15, 17]\n"
     ]
    }
   ],
   "execution_count": 69
  },
  {
   "metadata": {
    "ExecuteTime": {
     "end_time": "2025-02-21T05:10:28.318226Z",
     "start_time": "2025-02-21T05:10:26.560545Z"
    }
   },
   "cell_type": "code",
   "source": "",
   "id": "a50a8699b01a4413",
   "outputs": [
    {
     "data": {
      "text/plain": [
       "''"
      ]
     },
     "execution_count": 65,
     "metadata": {},
     "output_type": "execute_result"
    }
   ],
   "execution_count": 65
  },
  {
   "metadata": {},
   "cell_type": "markdown",
   "source": "6.Sum Square Difference\n",
   "id": "e53e63710729b5ed"
  },
  {
   "metadata": {},
   "cell_type": "markdown",
   "source": "approach   1",
   "id": "2fb8d0eacfa6c99"
  },
  {
   "metadata": {
    "ExecuteTime": {
     "end_time": "2025-02-21T05:30:18.962179Z",
     "start_time": "2025-02-21T05:30:18.945275Z"
    }
   },
   "cell_type": "code",
   "source": [
    "i =1\n",
    "total=0\n",
    "total_2=0\n",
    "for i in range(1,11):\n",
    "    total= total+ (i*i)\n",
    "    total_2= total_2+i\n",
    "\n",
    "#print(total)\n",
    "#print(total_2**2)\n",
    "print(total_2**2 - total)\n"
   ],
   "id": "bdfbb48164c7c0a",
   "outputs": [
    {
     "name": "stdout",
     "output_type": "stream",
     "text": [
      "2640\n"
     ]
    }
   ],
   "execution_count": 72
  },
  {
   "metadata": {},
   "cell_type": "markdown",
   "source": "approach 2",
   "id": "3832f5e6d32b6c24"
  },
  {
   "metadata": {
    "ExecuteTime": {
     "end_time": "2025-02-21T09:14:59.186752Z",
     "start_time": "2025-02-21T09:14:59.177568Z"
    }
   },
   "cell_type": "code",
   "source": [
    "def sum_sq_diff(n: int) -> int:\n",
    "    total_1 = 0\n",
    "    total_2 = 0\n",
    "    for num in range(1, n):\n",
    "        total_1 = total_1 + (num*num)\n",
    "        total_2 = total_2 + num\n",
    "\n",
    "    return (total_2**2) - total_1"
   ],
   "id": "586f46a9d5008099",
   "outputs": [],
   "execution_count": 89
  },
  {
   "metadata": {
    "ExecuteTime": {
     "end_time": "2025-02-21T09:14:59.812366Z",
     "start_time": "2025-02-21T09:14:59.800555Z"
    }
   },
   "cell_type": "code",
   "source": "sum_sq_diff(11)",
   "id": "d2bc2313de161860",
   "outputs": [
    {
     "data": {
      "text/plain": [
       "2640"
      ]
     },
     "execution_count": 90,
     "metadata": {},
     "output_type": "execute_result"
    }
   ],
   "execution_count": 90
  },
  {
   "metadata": {},
   "cell_type": "markdown",
   "source": "approach 3",
   "id": "2d29baf79a2e4fb"
  },
  {
   "metadata": {
    "ExecuteTime": {
     "end_time": "2025-02-21T09:43:12.788669Z",
     "start_time": "2025-02-21T09:43:12.782212Z"
    }
   },
   "cell_type": "code",
   "source": [
    "def sum_sq_diff(n: int) -> int:\n",
    "    sum_of_squares = (n * (n + 1) * (2 * n + 1)) // 6\n",
    "    square_of_sum = ((n * (n + 1)) // 2) ** 2\n",
    "    return square_of_sum - sum_of_squares"
   ],
   "id": "f871e7ea827fe5d",
   "outputs": [],
   "execution_count": 107
  },
  {
   "metadata": {
    "ExecuteTime": {
     "end_time": "2025-02-21T09:43:13.761679Z",
     "start_time": "2025-02-21T09:43:13.749068Z"
    }
   },
   "cell_type": "code",
   "source": "sum_sq_diff(10)",
   "id": "9597f557d2bb47d5",
   "outputs": [
    {
     "data": {
      "text/plain": [
       "2640"
      ]
     },
     "execution_count": 108,
     "metadata": {},
     "output_type": "execute_result"
    }
   ],
   "execution_count": 108
  },
  {
   "metadata": {},
   "cell_type": "markdown",
   "source": "Problem 1 Multiples of 3 or 5\n",
   "id": "835b5616f76861ab"
  },
  {
   "metadata": {},
   "cell_type": "markdown",
   "source": "approach 1",
   "id": "e6465dd63d7f5a44"
  },
  {
   "metadata": {
    "ExecuteTime": {
     "end_time": "2025-02-21T09:55:18.199954Z",
     "start_time": "2025-02-21T09:55:18.194111Z"
    }
   },
   "cell_type": "code",
   "source": [
    "def sum_3_5(n: int) -> int:\n",
    "    total = 0\n",
    "    for n in range(3,n):\n",
    "        if n % 3 == 0 or n % 5 == 0:\n",
    "            total += n\n",
    "\n",
    "\n",
    "\n",
    "    return total"
   ],
   "id": "671593f87a86273e",
   "outputs": [],
   "execution_count": 113
  },
  {
   "metadata": {
    "ExecuteTime": {
     "end_time": "2025-02-21T10:28:53.162718Z",
     "start_time": "2025-02-21T10:28:53.134080Z"
    }
   },
   "cell_type": "code",
   "source": "sum_3_5(1000)",
   "id": "7b702f0a458a96f4",
   "outputs": [
    {
     "data": {
      "text/plain": [
       "233168"
      ]
     },
     "execution_count": 115,
     "metadata": {},
     "output_type": "execute_result"
    }
   ],
   "execution_count": 115
  },
  {
   "metadata": {},
   "cell_type": "markdown",
   "source": "Approach 2",
   "id": "d64e8ce4b4546da9"
  },
  {
   "metadata": {
    "ExecuteTime": {
     "end_time": "2025-02-24T05:03:02.378914Z",
     "start_time": "2025-02-24T05:03:02.352528Z"
    }
   },
   "cell_type": "code",
   "source": [
    "def sum_3_5(n: int) -> int:\n",
    "    def sum_of_multiples(m: int) -> int:\n",
    "        p = (n - 1) // m  # Number of terms\n",
    "        return m * p * (p + 1) // 2  # Sum formula\n",
    "\n",
    "    return sum_of_multiples(3) + sum_of_multiples(5) - sum_of_multiples(15)  # Subtract 15 to avoid double counting\n",
    "\n",
    "# Example\n",
    "print(sum_3_5(10))  # Output: 23\n"
   ],
   "id": "bcace10c149a846d",
   "outputs": [
    {
     "name": "stdout",
     "output_type": "stream",
     "text": [
      "23\n"
     ]
    }
   ],
   "execution_count": 116
  },
  {
   "metadata": {},
   "cell_type": "markdown",
   "source": "Problem 2 Even Fibonacci Numbers\n",
   "id": "9a4713ac207790e5"
  },
  {
   "metadata": {},
   "cell_type": "code",
   "outputs": [],
   "execution_count": null,
   "source": [
    "def fib(n: int) -> int:\n",
    "    a,b=1,2\n",
    "    fibo=[]\n",
    "    n=input(\"enter a number\")\n",
    "    while i< (n+1):\n",
    "        var = fibo.append\n",
    "\n",
    "\n",
    "\n",
    "    return"
   ],
   "id": "17fc3a61e70c1dd4"
  },
  {
   "metadata": {
    "ExecuteTime": {
     "end_time": "2025-02-25T07:24:23.227345Z",
     "start_time": "2025-02-25T07:24:23.209751Z"
    }
   },
   "cell_type": "code",
   "source": [
    "def sum_even_fibonacci(limit: int) -> int:\n",
    "    a, b = 1, 2  # First two Fibonacci numbers\n",
    "    total = 0\n",
    "\n",
    "    while a <= limit:\n",
    "        if a % 2 == 0:\n",
    "            total += a\n",
    "        a, b = b, a + b  # Move to the next Fibonacci numbers\n",
    "\n",
    "    return total"
   ],
   "id": "19fef9103700295d",
   "outputs": [],
   "execution_count": 120
  },
  {
   "metadata": {
    "ExecuteTime": {
     "end_time": "2025-02-25T07:25:01.918155Z",
     "start_time": "2025-02-25T07:25:01.905073Z"
    }
   },
   "cell_type": "code",
   "source": "print(sum_even_fibonacci(10))",
   "id": "7f2852fa9fcc14a1",
   "outputs": [
    {
     "name": "stdout",
     "output_type": "stream",
     "text": [
      "44\n"
     ]
    }
   ],
   "execution_count": 126
  },
  {
   "metadata": {
    "ExecuteTime": {
     "end_time": "2025-02-25T07:25:19.642770Z",
     "start_time": "2025-02-25T07:25:19.622026Z"
    }
   },
   "cell_type": "code",
   "source": [
    "def sum_even_fibonacci(limit: int) -> int:\n",
    "    a, b = 1, 2  # First two Fibonacci numbers\n",
    "    total = 0\n",
    "\n",
    "    while a <= limit:\n",
    "        if a % 2 == 0:\n",
    "            total += a\n",
    "        a, b = b, a + b  # Move to the next Fibonacci numbers\n",
    "\n",
    "    return total\n",
    "\n",
    "# Example usage\n",
    "print(sum_even_fibonacci(4000000))  # Output: 4613732\n"
   ],
   "id": "bb0d789eb9cbbc84",
   "outputs": [
    {
     "name": "stdout",
     "output_type": "stream",
     "text": [
      "4613732\n"
     ]
    }
   ],
   "execution_count": 128
  },
  {
   "metadata": {},
   "cell_type": "markdown",
   "source": "3\tLargest Prime Factor",
   "id": "b22c11deba756c83"
  },
  {
   "metadata": {},
   "cell_type": "code",
   "outputs": [],
   "execution_count": null,
   "source": "",
   "id": "ed6a6b16f2c6e8c5"
  }
 ],
 "metadata": {
  "kernelspec": {
   "display_name": "Python 3",
   "language": "python",
   "name": "python3"
  },
  "language_info": {
   "codemirror_mode": {
    "name": "ipython",
    "version": 2
   },
   "file_extension": ".py",
   "mimetype": "text/x-python",
   "name": "python",
   "nbconvert_exporter": "python",
   "pygments_lexer": "ipython2",
   "version": "2.7.6"
  }
 },
 "nbformat": 4,
 "nbformat_minor": 5
}
